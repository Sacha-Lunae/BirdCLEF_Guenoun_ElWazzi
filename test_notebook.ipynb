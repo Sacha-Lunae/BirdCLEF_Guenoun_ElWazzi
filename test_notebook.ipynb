{
 "cells": [
  {
   "cell_type": "markdown",
   "id": "0bf4b9b3",
   "metadata": {},
   "source": [
    "Hello, world!"
   ]
  }
 ],
 "metadata": {},
 "nbformat": 4,
 "nbformat_minor": 5
}

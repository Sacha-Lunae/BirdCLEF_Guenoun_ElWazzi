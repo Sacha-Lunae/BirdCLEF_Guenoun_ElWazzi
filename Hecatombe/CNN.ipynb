{
 "cells": [
  {
   "cell_type": "code",
   "execution_count": 35,
   "metadata": {},
   "outputs": [],
   "source": [
    "import pandas as pd\n",
    "from sklearn.model_selection import train_test_split\n",
    "from spectrograms import *\n",
    "import tensorflow as tf\n",
    "from tensorflow.keras.models import Model\n",
    "from tensorflow.keras.layers import Input, Conv2D, MaxPooling2D, Flatten, Dense, concatenate, Dropout, BatchNormalization\n",
    "from tensorflow.keras.optimizers import Adam\n",
    "import pandas as pd"
   ]
  },
  {
   "cell_type": "markdown",
   "metadata": {},
   "source": [
    "### Tests on how to train a CNN using the data we have 775*308px"
   ]
  },
  {
   "cell_type": "code",
   "execution_count": 36,
   "metadata": {},
   "outputs": [],
   "source": [
    "df = pd.read_csv('birdclef-2024/train_metadata.csv')\n",
    "df['filepath'] = 'birdclef-2024/train_audio/' + df.filename\n",
    "df['target'] = df.primary_label.map(CFG.name2label)\n",
    "df['filename'] = df.filepath.map(lambda x: x.split('/')[-1])\n",
    "df['xc_id'] = df.filepath.map(lambda x: x.split('/')[-1].split('.')[0])\n",
    "\n",
    "train_df, test_df = train_test_split(df, test_size=0.3, random_state=42)"
   ]
  },
  {
   "cell_type": "code",
   "execution_count": 37,
   "metadata": {},
   "outputs": [
    {
     "data": {
      "text/html": [
       "<div>\n",
       "<style scoped>\n",
       "    .dataframe tbody tr th:only-of-type {\n",
       "        vertical-align: middle;\n",
       "    }\n",
       "\n",
       "    .dataframe tbody tr th {\n",
       "        vertical-align: top;\n",
       "    }\n",
       "\n",
       "    .dataframe thead th {\n",
       "        text-align: right;\n",
       "    }\n",
       "</style>\n",
       "<table border=\"1\" class=\"dataframe\">\n",
       "  <thead>\n",
       "    <tr style=\"text-align: right;\">\n",
       "      <th></th>\n",
       "      <th>primary_label</th>\n",
       "      <th>secondary_labels</th>\n",
       "      <th>type</th>\n",
       "      <th>latitude</th>\n",
       "      <th>longitude</th>\n",
       "      <th>scientific_name</th>\n",
       "      <th>common_name</th>\n",
       "      <th>author</th>\n",
       "      <th>license</th>\n",
       "      <th>rating</th>\n",
       "      <th>url</th>\n",
       "      <th>filename</th>\n",
       "      <th>filepath</th>\n",
       "      <th>target</th>\n",
       "      <th>xc_id</th>\n",
       "    </tr>\n",
       "  </thead>\n",
       "  <tbody>\n",
       "    <tr>\n",
       "      <th>8932</th>\n",
       "      <td>eaywag1</td>\n",
       "      <td>[]</td>\n",
       "      <td>['']</td>\n",
       "      <td>43.3479</td>\n",
       "      <td>4.7934</td>\n",
       "      <td>Motacilla flava</td>\n",
       "      <td>Western Yellow Wagtail</td>\n",
       "      <td>Stanislas Wroza</td>\n",
       "      <td>Creative Commons Attribution-NonCommercial-Sha...</td>\n",
       "      <td>2.0</td>\n",
       "      <td>https://xeno-canto.org/790724</td>\n",
       "      <td>XC790724.ogg</td>\n",
       "      <td>birdclef-2024/train_audio/eaywag1/XC790724.ogg</td>\n",
       "      <td>53</td>\n",
       "      <td>XC790724</td>\n",
       "    </tr>\n",
       "    <tr>\n",
       "      <th>7578</th>\n",
       "      <td>comsan</td>\n",
       "      <td>[]</td>\n",
       "      <td>['nocturnal flight call']</td>\n",
       "      <td>43.5352</td>\n",
       "      <td>-1.4475</td>\n",
       "      <td>Actitis hypoleucos</td>\n",
       "      <td>Common Sandpiper</td>\n",
       "      <td>Frédéric Cazaban</td>\n",
       "      <td>Creative Commons Attribution-NonCommercial-Sha...</td>\n",
       "      <td>5.0</td>\n",
       "      <td>https://www.xeno-canto.org/644516</td>\n",
       "      <td>XC644516.ogg</td>\n",
       "      <td>birdclef-2024/train_audio/comsan/XC644516.ogg</td>\n",
       "      <td>44</td>\n",
       "      <td>XC644516</td>\n",
       "    </tr>\n",
       "    <tr>\n",
       "      <th>1918</th>\n",
       "      <td>bkskit1</td>\n",
       "      <td>[]</td>\n",
       "      <td>['call', 'female', 'flight call', 'male']</td>\n",
       "      <td>37.3823</td>\n",
       "      <td>-6.1363</td>\n",
       "      <td>Elanus caeruleus</td>\n",
       "      <td>Black-winged Kite</td>\n",
       "      <td>José Carlos Sires</td>\n",
       "      <td>Creative Commons Attribution-NonCommercial-Sha...</td>\n",
       "      <td>5.0</td>\n",
       "      <td>https://www.xeno-canto.org/353823</td>\n",
       "      <td>XC353823.ogg</td>\n",
       "      <td>birdclef-2024/train_audio/bkskit1/XC353823.ogg</td>\n",
       "      <td>13</td>\n",
       "      <td>XC353823</td>\n",
       "    </tr>\n",
       "  </tbody>\n",
       "</table>\n",
       "</div>"
      ],
      "text/plain": [
       "     primary_label secondary_labels  \\\n",
       "8932       eaywag1               []   \n",
       "7578        comsan               []   \n",
       "1918       bkskit1               []   \n",
       "\n",
       "                                           type  latitude  longitude  \\\n",
       "8932                                       ['']   43.3479     4.7934   \n",
       "7578                  ['nocturnal flight call']   43.5352    -1.4475   \n",
       "1918  ['call', 'female', 'flight call', 'male']   37.3823    -6.1363   \n",
       "\n",
       "         scientific_name             common_name             author  \\\n",
       "8932     Motacilla flava  Western Yellow Wagtail    Stanislas Wroza   \n",
       "7578  Actitis hypoleucos        Common Sandpiper   Frédéric Cazaban   \n",
       "1918    Elanus caeruleus       Black-winged Kite  José Carlos Sires   \n",
       "\n",
       "                                                license  rating  \\\n",
       "8932  Creative Commons Attribution-NonCommercial-Sha...     2.0   \n",
       "7578  Creative Commons Attribution-NonCommercial-Sha...     5.0   \n",
       "1918  Creative Commons Attribution-NonCommercial-Sha...     5.0   \n",
       "\n",
       "                                    url      filename  \\\n",
       "8932      https://xeno-canto.org/790724  XC790724.ogg   \n",
       "7578  https://www.xeno-canto.org/644516  XC644516.ogg   \n",
       "1918  https://www.xeno-canto.org/353823  XC353823.ogg   \n",
       "\n",
       "                                            filepath  target     xc_id  \n",
       "8932  birdclef-2024/train_audio/eaywag1/XC790724.ogg      53  XC790724  \n",
       "7578   birdclef-2024/train_audio/comsan/XC644516.ogg      44  XC644516  \n",
       "1918  birdclef-2024/train_audio/bkskit1/XC353823.ogg      13  XC353823  "
      ]
     },
     "execution_count": 37,
     "metadata": {},
     "output_type": "execute_result"
    }
   ],
   "source": [
    "train_df.head(3)"
   ]
  },
  {
   "cell_type": "code",
   "execution_count": 38,
   "metadata": {},
   "outputs": [
    {
     "data": {
      "text/plain": [
       "target\n",
       "181    500\n",
       "105    500\n",
       "107    500\n",
       "37     500\n",
       "39     500\n",
       "      ... \n",
       "16       6\n",
       "178      6\n",
       "119      5\n",
       "5        5\n",
       "92       5\n",
       "Name: count, Length: 182, dtype: int64"
      ]
     },
     "execution_count": 38,
     "metadata": {},
     "output_type": "execute_result"
    }
   ],
   "source": [
    "df[\"target\"].value_counts()"
   ]
  },
  {
   "cell_type": "code",
   "execution_count": 39,
   "metadata": {},
   "outputs": [
    {
     "name": "stdout",
     "output_type": "stream",
     "text": [
      "22\n"
     ]
    }
   ],
   "source": [
    "target_counts = df['target'].value_counts()\n",
    "print(len(target_counts[target_counts == 500]))"
   ]
  },
  {
   "cell_type": "code",
   "execution_count": 40,
   "metadata": {},
   "outputs": [],
   "source": [
    "def create_model(input_shape_img, input_shape_meta, num_classes):\n",
    "    # Image input branch\n",
    "    img_input = Input(shape=input_shape_img, name='img_input')\n",
    "    \n",
    "    x = Conv2D(32, (3, 3), activation='relu', padding='same')(img_input)\n",
    "    x = MaxPooling2D((2, 2))(x)\n",
    "    x = BatchNormalization()(x)\n",
    "    \n",
    "    x = Conv2D(64, (3, 3), activation='relu', padding='same')(x)\n",
    "    x = MaxPooling2D((2, 2))(x)\n",
    "    x = BatchNormalization()(x)\n",
    "    \n",
    "    x = Conv2D(128, (3, 3), activation='relu', padding='same')(x)\n",
    "    x = MaxPooling2D((2, 2))(x)\n",
    "    x = BatchNormalization()(x)\n",
    "    \n",
    "    x = Flatten()(x)\n",
    "    x = Dense(256, activation='relu')(x)\n",
    "    x = Dropout(0.5)(x)\n",
    "    \n",
    "    # Metadata input branch\n",
    "    meta_input = Input(shape=input_shape_meta, name='meta_input')\n",
    "    y = Dense(32, activation='relu')(meta_input)\n",
    "    \n",
    "    # Combine both branches\n",
    "    combined = concatenate([x, y])\n",
    "    z = Dense(128, activation='relu')(combined)\n",
    "    z = Dropout(0.5)(z)\n",
    "    z = Dense(num_classes, activation='softmax')(z)\n",
    "    \n",
    "    model = Model(inputs=[img_input, meta_input], outputs=z)\n",
    "    \n",
    "    return model"
   ]
  },
  {
   "cell_type": "code",
   "execution_count": 41,
   "metadata": {},
   "outputs": [],
   "source": [
    "input_shape_img_rgb = (*CFG.img_size, 3)  # for RGB images\n",
    "input_shape_img_bw = (*CFG.img_size, 1)  # for grayscale images\n",
    "input_shape_meta = (2,)  # for latitude and longitude\n",
    "num_classes = CFG.num_classes"
   ]
  },
  {
   "cell_type": "code",
   "execution_count": 42,
   "metadata": {},
   "outputs": [],
   "source": [
    "model = create_model(input_shape_img_rgb, input_shape_meta, num_classes)\n",
    "model.compile(optimizer=Adam(learning_rate=0.001), loss='sparse_categorical_crossentropy', metrics=['accuracy'])\n",
    "train_generator = data_generator(train_df, batch_size=CFG.batch_size, rgb=False)"
   ]
  },
  {
   "cell_type": "code",
   "execution_count": 43,
   "metadata": {},
   "outputs": [
    {
     "ename": "TypeError",
     "evalue": "data_generator() got an unexpected keyword argument 'img_size'",
     "output_type": "error",
     "traceback": [
      "\u001b[1;31m---------------------------------------------------------------------------\u001b[0m",
      "\u001b[1;31mTypeError\u001b[0m                                 Traceback (most recent call last)",
      "Cell \u001b[1;32mIn[43], line 3\u001b[0m\n\u001b[0;32m      1\u001b[0m \u001b[38;5;66;03m# Verify the generator\u001b[39;00m\n\u001b[0;32m      2\u001b[0m batch_size \u001b[38;5;241m=\u001b[39m CFG\u001b[38;5;241m.\u001b[39mbatch_size\n\u001b[1;32m----> 3\u001b[0m test_generator \u001b[38;5;241m=\u001b[39m \u001b[43mdata_generator\u001b[49m\u001b[43m(\u001b[49m\u001b[43mtrain_df\u001b[49m\u001b[43m,\u001b[49m\u001b[43m \u001b[49m\u001b[43mbatch_size\u001b[49m\u001b[43m,\u001b[49m\u001b[43m \u001b[49m\u001b[43mimg_size\u001b[49m\u001b[38;5;241;43m=\u001b[39;49m\u001b[43mCFG\u001b[49m\u001b[38;5;241;43m.\u001b[39;49m\u001b[43mimg_size\u001b[49m\u001b[43m,\u001b[49m\u001b[43m \u001b[49m\u001b[43mrgb\u001b[49m\u001b[38;5;241;43m=\u001b[39;49m\u001b[38;5;28;43;01mFalse\u001b[39;49;00m\u001b[43m)\u001b[49m\n\u001b[0;32m      5\u001b[0m \u001b[38;5;28;01mfor\u001b[39;00m _ \u001b[38;5;129;01min\u001b[39;00m \u001b[38;5;28mrange\u001b[39m(\u001b[38;5;241m1\u001b[39m):\n\u001b[0;32m      6\u001b[0m     [img_batch, meta_batch], target_batch \u001b[38;5;241m=\u001b[39m \u001b[38;5;28mnext\u001b[39m(test_generator)\n",
      "\u001b[1;31mTypeError\u001b[0m: data_generator() got an unexpected keyword argument 'img_size'"
     ]
    }
   ],
   "source": [
    "# Verify the generator\n",
    "batch_size = CFG.batch_size\n",
    "test_generator = data_generator(train_df, batch_size, img_size=CFG.img_size, rgb=False)\n",
    "\n",
    "for _ in range(1):\n",
    "    [img_batch, meta_batch], target_batch = next(test_generator)\n",
    "    print(f'Image batch shape: {img_batch.shape}')\n",
    "    print(f'Metadata batch shape: {meta_batch.shape}')\n",
    "    print(f'Target batch shape: {target_batch.shape}')\n",
    "    break\n"
   ]
  },
  {
   "cell_type": "code",
   "execution_count": 44,
   "metadata": {},
   "outputs": [
    {
     "ename": "ValueError",
     "evalue": "setting an array element with a sequence. The requested array has an inhomogeneous shape after 2 dimensions. The detected shape was (64, 256) + inhomogeneous part.",
     "output_type": "error",
     "traceback": [
      "\u001b[1;31m---------------------------------------------------------------------------\u001b[0m",
      "\u001b[1;31mValueError\u001b[0m                                Traceback (most recent call last)",
      "Cell \u001b[1;32mIn[44], line 1\u001b[0m\n\u001b[1;32m----> 1\u001b[0m \u001b[43mmodel\u001b[49m\u001b[38;5;241;43m.\u001b[39;49m\u001b[43mfit\u001b[49m\u001b[43m(\u001b[49m\u001b[43mtrain_generator\u001b[49m\u001b[43m,\u001b[49m\u001b[43m \u001b[49m\u001b[43msteps_per_epoch\u001b[49m\u001b[38;5;241;43m=\u001b[39;49m\u001b[38;5;28;43mlen\u001b[39;49m\u001b[43m(\u001b[49m\u001b[43mtrain_df\u001b[49m\u001b[43m)\u001b[49m\u001b[43m \u001b[49m\u001b[38;5;241;43m/\u001b[39;49m\u001b[38;5;241;43m/\u001b[39;49m\u001b[43m \u001b[49m\u001b[43mCFG\u001b[49m\u001b[38;5;241;43m.\u001b[39;49m\u001b[43mbatch_size\u001b[49m\u001b[43m,\u001b[49m\u001b[43m \u001b[49m\u001b[43mepochs\u001b[49m\u001b[38;5;241;43m=\u001b[39;49m\u001b[43mCFG\u001b[49m\u001b[38;5;241;43m.\u001b[39;49m\u001b[43mepochs\u001b[49m\u001b[43m)\u001b[49m\n",
      "File \u001b[1;32m~\\AppData\\Local\\Packages\\PythonSoftwareFoundation.Python.3.11_qbz5n2kfra8p0\\LocalCache\\local-packages\\Python311\\site-packages\\keras\\src\\utils\\traceback_utils.py:122\u001b[0m, in \u001b[0;36mfilter_traceback.<locals>.error_handler\u001b[1;34m(*args, **kwargs)\u001b[0m\n\u001b[0;32m    119\u001b[0m     filtered_tb \u001b[38;5;241m=\u001b[39m _process_traceback_frames(e\u001b[38;5;241m.\u001b[39m__traceback__)\n\u001b[0;32m    120\u001b[0m     \u001b[38;5;66;03m# To get the full stack trace, call:\u001b[39;00m\n\u001b[0;32m    121\u001b[0m     \u001b[38;5;66;03m# `keras.config.disable_traceback_filtering()`\u001b[39;00m\n\u001b[1;32m--> 122\u001b[0m     \u001b[38;5;28;01mraise\u001b[39;00m e\u001b[38;5;241m.\u001b[39mwith_traceback(filtered_tb) \u001b[38;5;28;01mfrom\u001b[39;00m \u001b[38;5;28;01mNone\u001b[39;00m\n\u001b[0;32m    123\u001b[0m \u001b[38;5;28;01mfinally\u001b[39;00m:\n\u001b[0;32m    124\u001b[0m     \u001b[38;5;28;01mdel\u001b[39;00m filtered_tb\n",
      "File \u001b[1;32mc:\\Users\\Rami\\OneDrive\\Desktop\\efrei M1\\S8\\ML2\\Projet\\BirdCLEF_Guenoun_ElWazzi\\spectrograms.py:109\u001b[0m, in \u001b[0;36mdata_generator\u001b[1;34m(df, batch_size, rgb)\u001b[0m\n\u001b[0;32m    106\u001b[0m     metas\u001b[38;5;241m.\u001b[39mappend(meta)\n\u001b[0;32m    107\u001b[0m     targets\u001b[38;5;241m.\u001b[39mappend(target)\n\u001b[1;32m--> 109\u001b[0m \u001b[38;5;28;01myield\u001b[39;00m [np\u001b[38;5;241m.\u001b[39marray(spectrograms), np\u001b[38;5;241m.\u001b[39marray(metas)], np\u001b[38;5;241m.\u001b[39marray(targets)\n",
      "\u001b[1;31mValueError\u001b[0m: setting an array element with a sequence. The requested array has an inhomogeneous shape after 2 dimensions. The detected shape was (64, 256) + inhomogeneous part."
     ]
    }
   ],
   "source": [
    "model.fit(train_generator, steps_per_epoch=len(train_df) // CFG.batch_size, epochs=CFG.epochs)"
   ]
  }
 ],
 "metadata": {
  "kernelspec": {
   "display_name": "Python 3",
   "language": "python",
   "name": "python3"
  },
  "language_info": {
   "codemirror_mode": {
    "name": "ipython",
    "version": 3
   },
   "file_extension": ".py",
   "mimetype": "text/x-python",
   "name": "python",
   "nbconvert_exporter": "python",
   "pygments_lexer": "ipython3",
   "version": "3.11.9"
  }
 },
 "nbformat": 4,
 "nbformat_minor": 2
}
